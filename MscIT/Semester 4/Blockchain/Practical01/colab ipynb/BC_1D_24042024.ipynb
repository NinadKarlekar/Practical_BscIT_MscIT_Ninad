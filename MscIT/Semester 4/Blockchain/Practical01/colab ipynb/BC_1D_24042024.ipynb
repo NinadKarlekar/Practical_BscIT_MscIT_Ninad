{
  "nbformat": 4,
  "nbformat_minor": 0,
  "metadata": {
    "colab": {
      "provenance": []
    },
    "kernelspec": {
      "name": "python3",
      "display_name": "Python 3"
    },
    "language_info": {
      "name": "python"
    }
  },
  "cells": [
    {
      "cell_type": "markdown",
      "source": [
        "# AIm 1D - Create a blockchain, a genesis block and execute it.\n"
      ],
      "metadata": {
        "id": "eZjWiP86LW80"
      }
    },
    {
      "cell_type": "code",
      "execution_count": null,
      "metadata": {
        "colab": {
          "base_uri": "https://localhost:8080/"
        },
        "id": "OZSoyKGKGDRj",
        "outputId": "37bb94db-c84a-4695-a8e5-8dee0d245356"
      },
      "outputs": [
        {
          "output_type": "stream",
          "name": "stdout",
          "text": [
            "Requirement already satisfied: pycryptodome in /usr/local/lib/python3.10/dist-packages (3.20.0)\n"
          ]
        }
      ],
      "source": [
        "!pip install pycryptodome"
      ]
    },
    {
      "cell_type": "code",
      "source": [
        "import Crypto\n",
        "import binascii\n",
        "import datetime\n",
        "import collections\n",
        "\n",
        "from Crypto.PublicKey import RSA\n",
        "from Crypto import Random\n",
        "from Crypto.Hash import SHA\n",
        "from Crypto.Signature import PKCS1_v1_5\n",
        "\n",
        "import hashlib\n",
        "from hashlib import sha256\n",
        "\n",
        "class Client:\n",
        "    def __init__(self):\n",
        "        # Creating random number for key\n",
        "        random = Crypto.Random.new().read\n",
        "        # Creating new public key and private key\n",
        "        self._private_key = RSA.generate(1024, random)\n",
        "        self._public_key = self._private_key.publickey()\n",
        "        self._signer = PKCS1_v1_5.new(self._private_key)\n",
        "\n",
        "    @property\n",
        "    def identity(self):\n",
        "        return binascii.hexlify(self._public_key.exportKey(format='DER')).decode('ascii')"
      ],
      "metadata": {
        "id": "rDOuq6DWGYe3"
      },
      "execution_count": null,
      "outputs": []
    },
    {
      "cell_type": "code",
      "source": [
        "class Transaction:\n",
        "  def __init__(self, sender, receiver, value):\n",
        "      self.sender = sender\n",
        "      self.receiver = receiver\n",
        "      self.value = value\n",
        "      self.time = datetime.datetime.now()\n",
        "\n",
        "  def to_dict(self):\n",
        "      if self.sender == \"Genesis\":\n",
        "          identity = \"Genesis\"\n",
        "      else:\n",
        "          identity = self.sender.identity\n",
        "\n",
        "      return collections.OrderedDict({\n",
        "          'sender': identity,\n",
        "          'receiver': self.receiver,\n",
        "          'value': self.value,\n",
        "          'time': self.time\n",
        "      })\n",
        "\n",
        "  def sign_transaction(self):\n",
        "      private_key = self.sender._private_key\n",
        "      signer = PKCS1_v1_5.new(private_key)\n",
        "      h = SHA.new(str(self.to_dict()).encode('utf8'))\n",
        "      return binascii.hexlify(signer.sign(h)).decode('ascii')\n",
        "\n"
      ],
      "metadata": {
        "id": "suOj3nKHGisW"
      },
      "execution_count": null,
      "outputs": []
    },
    {
      "cell_type": "code",
      "source": [
        "class Block:\n",
        "  def __init__(self):\n",
        "    self.verified_transactions = []\n",
        "    self.previous_block_hash = \"\"\n",
        "    self.Nonce = \"\"\n",
        "\n",
        "  last_block_hash = \"\"\n",
        "\n",
        "  def display_transaction(transaction):\n",
        "      dict = transaction.to_dict()\n",
        "      print(\"Sender: \" + dict['sender'])\n",
        "      print('-----')\n",
        "      print(\"Receiver: \" + dict['receiver'])  # Corrected typo\n",
        "      print('-----')\n",
        "      print(\"Value: \" + str(dict['value']))\n",
        "      print('-----')\n",
        "      print(\"Time: \" + str(dict['time']))\n",
        "      print('-----')\n",
        "\n",
        "Ninad = Client()\n",
        "t0 = Transaction(\n",
        "    \"Genesis\",\n",
        "    Ninad.identity,\n",
        "    500.0\n",
        ")\n",
        "\n",
        "block0 = Block()\n",
        "block0.previous_block_hash = None\n",
        "Nonce = None\n",
        "block0.verified_transactions.append(t0)\n",
        "digest = hash(block0)\n",
        "last_block_hash = digest\n",
        "TPCoins = []\n",
        "\n",
        "def dump_blockchain(self):\n",
        "  print(\"Number of blocks in chain: \"+ str(len(self)))\n",
        "  for x in range(len(TPCoins)):\n",
        "    block_temp = TPCoins[x]\n",
        "    print(\"block #\" + str(x))\n",
        "  for transaction in block_temp.verified_transactions:\n",
        "    Block.display_transaction(transaction)\n",
        "    print('-'*20)\n",
        "  print(\"=\"*30)\n",
        "\n",
        "TPCoins.append(block0)\n",
        "dump_blockchain(TPCoins)\n"
      ],
      "metadata": {
        "colab": {
          "base_uri": "https://localhost:8080/"
        },
        "id": "IbeTIdejGzdG",
        "outputId": "497a9994-c310-4a6a-b088-407cfc68f1de"
      },
      "execution_count": null,
      "outputs": [
        {
          "output_type": "stream",
          "name": "stdout",
          "text": [
            "Number of blocks in chain: 1\n",
            "block #0\n",
            "Sender: Genesis\n",
            "-----\n",
            "Receiver: 30819f300d06092a864886f70d010101050003818d0030818902818100c15f06dc4692a07cbe45da3a867658a08c996d416ab79414f4af51f043abd4e3ddb4e0c7b957d0b2dfeb23b763107b2875131e557d123def0fd2420522fbbf0869239b7a260e83abf925af3afdc906837a5f155a2305d53e9b8ccde078a8b8c31e99dbfc5be106138c2b24dc58bf5115dea4c2791a432b8008d714964ea062370203010001\n",
            "-----\n",
            "Value: 500.0\n",
            "-----\n",
            "Time: 2024-04-24 12:54:53.908551\n",
            "-----\n",
            "--------------------\n",
            "==============================\n"
          ]
        }
      ]
    }
  ]
}