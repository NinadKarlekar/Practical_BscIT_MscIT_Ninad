{
  "nbformat": 4,
  "nbformat_minor": 0,
  "metadata": {
    "colab": {
      "provenance": []
    },
    "kernelspec": {
      "name": "python3",
      "display_name": "Python 3"
    },
    "language_info": {
      "name": "python"
    }
  },
  "cells": [
    {
      "cell_type": "markdown",
      "source": [
        "# 1e. Create a mining function and test it"
      ],
      "metadata": {
        "id": "0Z7Bwi0sLwXw"
      }
    },
    {
      "cell_type": "code",
      "execution_count": null,
      "metadata": {
        "id": "PCxH1SS7LtyP"
      },
      "outputs": [],
      "source": [
        "import hashlib"
      ]
    },
    {
      "cell_type": "code",
      "source": [
        "def sha256(message):\n",
        "  return hashlib.sha256(message.encode('ascii')).hexdigest()\n",
        "\n",
        "def mine(message, difficulty=1):\n",
        "  assert difficulty>=1\n",
        "  prefix = '1'*difficulty\n",
        "  for i in range(1000):\n",
        "    digest = sha256(str(hash(message))+str(i))\n",
        "    if digest.startswith(prefix):\n",
        "      print(\"after \"+str(i)+\" iterations found nonce: \"+digest)\n",
        "      return digest\n",
        "\n",
        "mine(\"TestNK\",2)\n"
      ],
      "metadata": {
        "colab": {
          "base_uri": "https://localhost:8080/",
          "height": 73
        },
        "id": "rAPPjejqMA5T",
        "outputId": "c86a383d-1f93-4a81-c43f-5415c0d7ce60"
      },
      "execution_count": null,
      "outputs": [
        {
          "output_type": "stream",
          "name": "stdout",
          "text": [
            "after 173 iterations found nonce: 11490ccd7a52a1d328ba07c2e65b32d057b5de91bfac796067333e00bc330c52\n"
          ]
        },
        {
          "output_type": "execute_result",
          "data": {
            "text/plain": [
              "'11490ccd7a52a1d328ba07c2e65b32d057b5de91bfac796067333e00bc330c52'"
            ],
            "application/vnd.google.colaboratory.intrinsic+json": {
              "type": "string"
            }
          },
          "metadata": {},
          "execution_count": 12
        }
      ]
    }
  ]
}