{
  "nbformat": 4,
  "nbformat_minor": 0,
  "metadata": {
    "colab": {
      "provenance": []
    },
    "kernelspec": {
      "name": "python3",
      "display_name": "Python 3"
    },
    "language_info": {
      "name": "python"
    }
  },
  "cells": [
    {
      "cell_type": "markdown",
      "source": [
        "## 1B.- A transaction class to send and receive money and test it.\n"
      ],
      "metadata": {
        "id": "VlG9ZO-KTxo7"
      }
    },
    {
      "cell_type": "code",
      "source": [
        "!pip install pycryptodome"
      ],
      "metadata": {
        "colab": {
          "base_uri": "https://localhost:8080/"
        },
        "id": "sQYEVVdKTni8",
        "outputId": "b4226f5c-f9f5-42f4-99a0-5f7fb8c09a52"
      },
      "execution_count": 2,
      "outputs": [
        {
          "output_type": "stream",
          "name": "stdout",
          "text": [
            "Collecting pycryptodome\n",
            "  Downloading pycryptodome-3.20.0-cp35-abi3-manylinux_2_17_x86_64.manylinux2014_x86_64.whl (2.1 MB)\n",
            "\u001b[2K     \u001b[90m━━━━━━━━━━━━━━━━━━━━━━━━━━━━━━━━━━━━━━━━\u001b[0m \u001b[32m2.1/2.1 MB\u001b[0m \u001b[31m9.6 MB/s\u001b[0m eta \u001b[36m0:00:00\u001b[0m\n",
            "\u001b[?25hInstalling collected packages: pycryptodome\n",
            "Successfully installed pycryptodome-3.20.0\n"
          ]
        }
      ]
    },
    {
      "cell_type": "code",
      "execution_count": 3,
      "metadata": {
        "id": "npyb-_qdTHM8"
      },
      "outputs": [],
      "source": [
        "#1B.- A transaction class to send and receive money and test it.\n",
        "import Crypto\n",
        "import binascii\n",
        "\n",
        "import datetime\n",
        "import collections\n",
        "\n",
        "from Crypto.PublicKey import RSA\n",
        "from Crypto.Signature import PKCS1_v1_5\n",
        "from Crypto.Hash import SHA"
      ]
    },
    {
      "cell_type": "code",
      "source": [
        "class Client:\n",
        "    def __init__(self):\n",
        "        # Creating random number for key\n",
        "        random = Crypto.Random.new().read\n",
        "        # Creating new public key and private key\n",
        "        self._private_key = RSA.generate(1024, random)\n",
        "        self._public_key = self._private_key.publickey()\n",
        "        self._signer = PKCS1_v1_5.new(self._private_key)\n",
        "\n",
        "    @property\n",
        "    def identity(self):\n",
        "        return binascii.hexlify(self._public_key.exportKey(format='DER')).decode('ascii')"
      ],
      "metadata": {
        "id": "TaG-fWg2TQY8"
      },
      "execution_count": 4,
      "outputs": []
    },
    {
      "cell_type": "code",
      "source": [
        "class Transaction:\n",
        "    def __init__(self, sender, receiver, value):\n",
        "        self.sender = sender\n",
        "        self.receiver = receiver\n",
        "        self.value = value\n",
        "        self.time = datetime.datetime.now()\n",
        "\n",
        "    def to_dict(self):\n",
        "        if self.sender == \"Genesis\":\n",
        "            identity = \"Genesis\"\n",
        "        else:\n",
        "            identity = self.sender.identity\n",
        "\n",
        "        return collections.OrderedDict({\n",
        "            'sender': identity,\n",
        "            'receiver': self.receiver,\n",
        "            'value': self.value,\n",
        "            'time': self.time\n",
        "        })\n",
        "\n",
        "    def sign_transaction(self):\n",
        "        private_key = self.sender._private_key\n",
        "        signer = PKCS1_v1_5.new(private_key)\n",
        "        h = SHA.new(str(self.to_dict()).encode('utf8'))\n",
        "        return binascii.hexlify(signer.sign(h)).decode('ascii')"
      ],
      "metadata": {
        "id": "eipyjqTBTToi"
      },
      "execution_count": 5,
      "outputs": []
    },
    {
      "cell_type": "code",
      "source": [
        "Ninad = Client()\n",
        "print(\"-\"*50)\n",
        "print(\"Ninad Key\")\n",
        "print(Ninad.identity)\n",
        "\n",
        "KS = Client()\n",
        "print(\"-\"*50)\n",
        "print(\"KS Key\")\n",
        "print(KS.identity)\n",
        "\n",
        "t = Transaction(Ninad, KS.identity, 10.0)\n",
        "print(\"-\"*50)\n",
        "print(\"Transaction Sign\")\n",
        "signature = t.sign_transaction()\n",
        "print(signature)\n",
        "print(\"-\"*50)"
      ],
      "metadata": {
        "colab": {
          "base_uri": "https://localhost:8080/"
        },
        "id": "Ro-1Poe_TR-r",
        "outputId": "e8dbbc38-c05a-440e-ce87-567518e7c8ff"
      },
      "execution_count": 6,
      "outputs": [
        {
          "output_type": "stream",
          "name": "stdout",
          "text": [
            "--------------------------------------------------\n",
            "Ninad Key\n",
            "30819f300d06092a864886f70d010101050003818d0030818902818100a99ad7dbf3cbfbb0d340ae1d091387896b0ef9449e032569819ace751b04c482540dec6ab8e7b8179295347aa2ecf4eaddb88c079f7427cf229d0f0015acf960c402b18ee338a1b911899d37aa884abca06743dcc06878ad2b787da153f038f2f25b54a214f67ea121052de5637b34a89d553a6708d1575a081bc4dd411444b90203010001\n",
            "--------------------------------------------------\n",
            "KS Key\n",
            "30819f300d06092a864886f70d010101050003818d0030818902818100b03818bf884264881b44027dd3e654fdd258339df2d3040ad2122d0e1329830cc625b29f9c67b28fb4f244244e7f74deb23b1b1901c4c726368aadd1b7b9a86211ad6e3a6514b8d99bc93749e4f4c75db63a9fbcb15fff07dde42f4e618d456da1d816aecb8aa5b2093ec336cad7037e10ffd025058df7f8f80bc1d1cf6197150203010001\n",
            "--------------------------------------------------\n",
            "Transaction Sign\n",
            "a7a209a226c7df822f436dae08b64dab0dcc0c744ef7ff198868ee005b3e570969e4cdb817ca36c1d69b999e308c1ae6762755df2101c1ee4de31f29ee4a98a635ea8cca3effecf13061087495f82c0cbba693db600bf5bfad6243bdbfbcbddc9013aace276dc5dcfe8a2050c39c2d682fece123e0feebf88e33985c255c201e\n",
            "--------------------------------------------------\n"
          ]
        }
      ]
    }
  ]
}