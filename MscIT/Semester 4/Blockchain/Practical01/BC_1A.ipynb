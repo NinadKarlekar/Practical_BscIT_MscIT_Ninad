{
  "nbformat": 4,
  "nbformat_minor": 0,
  "metadata": {
    "colab": {
      "provenance": []
    },
    "kernelspec": {
      "name": "python3",
      "display_name": "Python 3"
    },
    "language_info": {
      "name": "python"
    }
  },
  "cells": [
    {
      "cell_type": "code",
      "execution_count": 3,
      "metadata": {
        "colab": {
          "base_uri": "https://localhost:8080/"
        },
        "id": "hFY3vFXZSHbK",
        "outputId": "20b39d24-2790-4233-97c1-35bb16848be3"
      },
      "outputs": [
        {
          "output_type": "stream",
          "name": "stdout",
          "text": [
            "Collecting pycryptodome\n",
            "  Downloading pycryptodome-3.20.0-cp35-abi3-manylinux_2_17_x86_64.manylinux2014_x86_64.whl (2.1 MB)\n",
            "\u001b[2K     \u001b[90m━━━━━━━━━━━━━━━━━━━━━━━━━━━━━━━━━━━━━━━━\u001b[0m \u001b[32m2.1/2.1 MB\u001b[0m \u001b[31m8.8 MB/s\u001b[0m eta \u001b[36m0:00:00\u001b[0m\n",
            "\u001b[?25hInstalling collected packages: pycryptodome\n",
            "Successfully installed pycryptodome-3.20.0\n"
          ]
        }
      ],
      "source": [
        "#pip install cryptodome  OR\n",
        "!pip install pycryptodome\n",
        "\n",
        "#1A.- A simple client class that generates the private and public keys by using the built-in Python RSA algorithm and test it.\n"
      ]
    },
    {
      "cell_type": "code",
      "source": [
        "import Crypto\n",
        "import binascii\n",
        "\n",
        "from Crypto.PublicKey import RSA\n",
        "from Crypto.Signature import PKCS1_v1_5"
      ],
      "metadata": {
        "id": "CRmvJmbNSxWC"
      },
      "execution_count": 4,
      "outputs": []
    },
    {
      "cell_type": "code",
      "source": [
        "class Client:\n",
        "    def __init__(self):\n",
        "        # Creating random number for key\n",
        "        random = Crypto.Random.new().read\n",
        "        # Creating new public key and private key\n",
        "        self._private_key = RSA.generate(1024, random)\n",
        "        self._public_key = self._private_key.publickey()\n",
        "        self._signer = PKCS1_v1_5.new(self._private_key)\n",
        "\n",
        "    @property\n",
        "    def identity(self):\n",
        "        return binascii.hexlify(self._public_key.exportKey(format='DER')).decode('ascii')\n",
        "\n",
        "Demo = Client()\n",
        "print(Demo.identity)\n"
      ],
      "metadata": {
        "colab": {
          "base_uri": "https://localhost:8080/"
        },
        "id": "meDYYHNDS0By",
        "outputId": "21f9812f-aa0c-4e54-e08f-b6ac37847ab4"
      },
      "execution_count": 5,
      "outputs": [
        {
          "output_type": "stream",
          "name": "stdout",
          "text": [
            "30819f300d06092a864886f70d010101050003818d0030818902818100e79bfa63870b87e693fb8bf67e6a4eb8e3a1618ba950f7fb954111632dcb55675d0147e996f22673f3a0f656fea93218f1886be6ef624aa0cc844007dc59eb58cf91175c44c2225145560e47c3508748ce53afcb76be2180a47860437c09ab6ccd37685ad4de709023f5b28a153e6110a0fa9c3046d70754be5e59c4c06849cb0203010001\n"
          ]
        }
      ]
    }
  ]
}