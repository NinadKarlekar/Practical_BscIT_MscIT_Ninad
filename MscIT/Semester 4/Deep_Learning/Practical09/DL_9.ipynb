{
  "nbformat": 4,
  "nbformat_minor": 0,
  "metadata": {
    "colab": {
      "provenance": []
    },
    "kernelspec": {
      "name": "python3",
      "display_name": "Python 3"
    },
    "language_info": {
      "name": "python"
    }
  },
  "cells": [
    {
      "cell_type": "markdown",
      "source": [
        "# 9. Aim: Implementation of convolutional neural network to predict number from number images"
      ],
      "metadata": {
        "id": "P-ZF19kT1gVD"
      }
    },
    {
      "cell_type": "code",
      "execution_count": 1,
      "metadata": {
        "colab": {
          "base_uri": "https://localhost:8080/",
          "height": 482
        },
        "id": "fcQ4GKpBvAgX",
        "outputId": "d2bda4e8-afd2-41dc-b759-2d81413efb6b"
      },
      "outputs": [
        {
          "output_type": "stream",
          "name": "stdout",
          "text": [
            "Downloading data from https://storage.googleapis.com/tensorflow/tf-keras-datasets/mnist.npz\n",
            "11490434/11490434 [==============================] - 0s 0us/step\n"
          ]
        },
        {
          "output_type": "display_data",
          "data": {
            "text/plain": [
              "<Figure size 640x480 with 1 Axes>"
            ],
            "image/png": "[encoded data removed]"
          },
          "metadata": {}
        },
        {
          "output_type": "stream",
          "name": "stdout",
          "text": [
            "(28, 28)\n"
          ]
        }
      ],
      "source": [
        "from keras.datasets import mnist\n",
        "from keras.utils import to_categorical\n",
        "from keras.models import Sequential\n",
        "from keras.layers import Dense, Conv2D, Flatten\n",
        "import matplotlib.pyplot as plt\n",
        "\n",
        "# Download MNIST data and split into train and test sets\n",
        "(X_train, Y_train), (X_test, Y_test) = mnist.load_data()\n",
        "\n",
        "# Plot the first image in the dataset\n",
        "plt.imshow(X_train[0])\n",
        "plt.show()\n",
        "print(X_train[0].shape)"
      ]
    },
    {
      "cell_type": "code",
      "source": [
        "# Reshape data for CNN (add channel dimension)\n",
        "X_train = X_train.reshape(60000, 28, 28, 1)\n",
        "X_test = X_test.reshape(10000, 28, 28, 1)\n",
        "\n",
        "# One-hot encode labels\n",
        "Y_train = to_categorical(Y_train)\n",
        "Y_test = to_categorical(Y_test)\n",
        "\n",
        "# Print an example of one-hot encoded label\n",
        "print(Y_train[0])"
      ],
      "metadata": {
        "colab": {
          "base_uri": "https://localhost:8080/"
        },
        "id": "6CxqQ7eTvY9s",
        "outputId": "7101a61d-4af8-4763-a5af-f2c3693ec583"
      },
      "execution_count": 2,
      "outputs": [
        {
          "output_type": "stream",
          "name": "stdout",
          "text": [
            "[0. 0. 0. 0. 0. 1. 0. 0. 0. 0.]\n"
          ]
        }
      ]
    },
    {
      "cell_type": "code",
      "source": [
        "# Define the model architecture\n",
        "model = Sequential()\n",
        "\n",
        "# Learn image features with convolutional layers\n",
        "model.add(Conv2D(64, kernel_size=3, activation='relu', input_shape=(28, 28, 1)))\n",
        "model.add(Conv2D(32, kernel_size=3, activation='relu'))\n",
        "model.add(Flatten())\n",
        "\n",
        "# Add a dense layer with softmax activation for 10-class classification\n",
        "model.add(Dense(10, activation='softmax'))\n",
        "\n",
        "# Compile the model for training\n",
        "model.compile(optimizer='adam', loss='categorical_crossentropy', metrics=['accuracy'])\n",
        "\n",
        "# Train the model with validation data\n",
        "model.fit(X_train, Y_train, validation_data=(X_test, Y_test), epochs=3)\n",
        "\n",
        "# Make predictions on the first 4 test images\n",
        "predictions = model.predict(X_test[:4])\n",
        "print(predictions)  # Predicted probabilities for each class"
      ],
      "metadata": {
        "colab": {
          "base_uri": "https://localhost:8080/"
        },
        "id": "-UxiXHYcvbqW",
        "outputId": "dc3da04b-8642-48b0-9fb1-bf328fd31672"
      },
      "execution_count": 3,
      "outputs": [
        {
          "output_type": "stream",
          "name": "stdout",
          "text": [
            "Epoch 1/3\n",
            "1875/1875 [==============================] - 184s 96ms/step - loss: 0.2592 - accuracy: 0.9500 - val_loss: 0.0971 - val_accuracy: 0.9687\n",
            "Epoch 2/3\n",
            "1875/1875 [==============================] - 162s 86ms/step - loss: 0.0692 - accuracy: 0.9791 - val_loss: 0.0739 - val_accuracy: 0.9774\n",
            "Epoch 3/3\n",
            "1875/1875 [==============================] - 168s 90ms/step - loss: 0.0495 - accuracy: 0.9847 - val_loss: 0.0913 - val_accuracy: 0.9732\n",
            "1/1 [==============================] - 0s 98ms/step\n",
            "[[1.4193917e-08 1.5162138e-13 1.8317252e-04 5.3784464e-05 4.3299665e-16\n",
            "  4.2247233e-11 1.3033843e-12 9.9976295e-01 1.2024559e-07 3.3877430e-09]\n",
            " [5.2122549e-11 2.6757169e-10 1.0000000e+00 1.1412729e-09 1.0514890e-11\n",
            "  1.3204709e-15 3.4573538e-11 2.3792109e-13 3.7407819e-10 5.0964067e-16]\n",
            " [1.4583209e-06 9.9895906e-01 8.3623985e-05 1.9719964e-06 2.7530619e-05\n",
            "  2.9076022e-05 4.8655620e-05 9.4327214e-07 8.4383803e-04 3.8968228e-06]\n",
            " [9.9828523e-01 2.2271436e-09 3.7513390e-05 4.7662255e-07 1.4266816e-07\n",
            "  8.8060595e-08 1.6047392e-03 5.3537583e-09 3.0650725e-05 4.1126830e-05]]\n"
          ]
        }
      ]
    },
    {
      "cell_type": "code",
      "source": [
        "# Print the actual labels for the first 4 test images\n",
        "print(Y_test[:4])  # One-hot encoded labels\n"
      ],
      "metadata": {
        "colab": {
          "base_uri": "https://localhost:8080/"
        },
        "id": "2D25EeFivSuV",
        "outputId": "fac78459-8d73-4220-9a02-ab6fc1e706d5"
      },
      "execution_count": 4,
      "outputs": [
        {
          "output_type": "stream",
          "name": "stdout",
          "text": [
            "[[0. 0. 0. 0. 0. 0. 0. 1. 0. 0.]\n",
            " [0. 0. 1. 0. 0. 0. 0. 0. 0. 0.]\n",
            " [0. 1. 0. 0. 0. 0. 0. 0. 0. 0.]\n",
            " [1. 0. 0. 0. 0. 0. 0. 0. 0. 0.]]\n"
          ]
        }
      ]
    }
  ]
}