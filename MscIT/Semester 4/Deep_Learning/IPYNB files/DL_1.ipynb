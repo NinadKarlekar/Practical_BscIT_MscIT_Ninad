{
  "nbformat": 4,
  "nbformat_minor": 0,
  "metadata": {
    "colab": {
      "provenance": []
    },
    "kernelspec": {
      "name": "python3",
      "display_name": "Python 3"
    },
    "language_info": {
      "name": "python"
    }
  },
  "cells": [
    {
      "cell_type": "code",
      "execution_count": 1,
      "metadata": {
        "colab": {
          "base_uri": "https://localhost:8080/"
        },
        "id": "buTfnIaCGCOW",
        "outputId": "4ce54164-6dd7-494f-a172-bb6d2ad451b2"
      },
      "outputs": [
        {
          "output_type": "stream",
          "name": "stdout",
          "text": [
            "Matrix Multiplication Demo\n",
            "tf.Tensor(\n",
            "[[1 2 3]\n",
            " [4 5 6]], shape=(2, 3), dtype=int32)\n",
            "tf.Tensor(\n",
            "[[ 7  8]\n",
            " [ 9 10]\n",
            " [11 12]], shape=(3, 2), dtype=int32)\n",
            "Product: tf.Tensor(\n",
            "[[ 58  64]\n",
            " [139 154]], shape=(2, 2), dtype=int32)\n",
            "Matrix A:\n",
            "[[4.3025    7.2194614]\n",
            " [7.638425  8.2866535]]\n",
            "\n",
            "\n",
            "Eigen Vectors:\n",
            "[[-0.79131407 -0.61140984]\n",
            " [ 0.61140984 -0.79131407]]\n",
            "\n",
            "Eigen Values:\n",
            "[-1.5993391 14.188493 ]\n",
            "\n"
          ]
        }
      ],
      "source": [
        "# Aim: Performing matrix multiplication and finding eigen vectors and eigen values using TensorFlow.\n",
        "\n",
        "import tensorflow as tf\n",
        "\n",
        "print(\"Matrix Multiplication Demo\")\n",
        "x = tf.constant([1, 2, 3, 4, 5, 6], shape=[2, 3])\n",
        "print(x)\n",
        "\n",
        "y = tf.constant([7, 8, 9, 10, 11, 12], shape=[3, 2])\n",
        "print(y)\n",
        "\n",
        "z = tf.matmul(x, y)\n",
        "print(\"Product:\", z)\n",
        "\n",
        "e_matrix_A = tf.random.uniform(\n",
        "    [2, 2], minval=3, maxval=10, dtype=tf.float32, name=\"matrixA\"\n",
        ")\n",
        "print(\"Matrix A:\\n{}\\n\\n\".format(e_matrix_A))\n",
        "eigen_values_A, eigen_vectors_A = tf.linalg.eigh(e_matrix_A)\n",
        "print(\n",
        "    \"Eigen Vectors:\\n{}\\n\\nEigen Values:\\n{}\\n\".format(eigen_vectors_A, eigen_values_A)\n",
        ")\n"
      ]
    }
  ]
}