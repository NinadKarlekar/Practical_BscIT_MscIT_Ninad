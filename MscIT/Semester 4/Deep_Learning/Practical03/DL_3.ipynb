{
  "cells": [
    {
      "cell_type": "markdown",
      "metadata": {
        "id": "QkJqgHauLVD0"
      },
      "source": [
        "# Aim: Implementing deep neural network for performing binary classification task.\n"
      ]
    },
    {
      "cell_type": "code",
      "execution_count": null,
      "metadata": {},
      "outputs": [],
      "source": [
        "#pip install tensorflow\n",
        "# Colab only"
      ]
    },
    {
      "cell_type": "code",
      "execution_count": null,
      "metadata": {
        "id": "lTCRzC6yKZGw"
      },
      "outputs": [],
      "source": [
        "# Aim: Implementing deep neural network for performing binary classification task.\n",
        "from keras.models import Sequential\n",
        "from keras.layers import Dense\n",
        "import pandas as pd"
      ]
    },
    {
      "cell_type": "code",
      "execution_count": null,
      "metadata": {
        "id": "joZvCIwLKdh9"
      },
      "outputs": [],
      "source": [
        "names = [\n",
        "    \"No. of pregnancies\",\n",
        "    \"Glucose level\",\n",
        "    \"Blood Pressure\",\n",
        "    \"skin thickness\",\n",
        "    \"Insulin\",\n",
        "    \"BMI\",\n",
        "    \"Diabetes pedigree\",\n",
        "    \"Age\",\n",
        "    \"Class\",\n",
        "]"
      ]
    },
    {
      "cell_type": "code",
      "execution_count": null,
      "metadata": {
        "colab": {
          "base_uri": "https://localhost:8080/",
          "height": 143
        },
        "id": "JV5__fFEKfR7",
        "outputId": "4493ed5a-b6e6-484f-86fb-227e9a4cc56c"
      },
      "outputs": [],
      "source": [
        "df = pd.read_csv(\"pima-indians-diabetes.data.csv\", names=names)\n",
        "df.head(3)\n"
      ]
    },
    {
      "cell_type": "code",
      "execution_count": null,
      "metadata": {
        "id": "GL_0nhnnK6wb"
      },
      "outputs": [],
      "source": [
        "binaryc = Sequential()"
      ]
    },
    {
      "cell_type": "code",
      "execution_count": null,
      "metadata": {
        "id": "yeME3bdjK3V4"
      },
      "outputs": [],
      "source": [
        "from tensorflow.tools.docs.doc_controls import doc_in_current_and_subclasses\n",
        "\n",
        "binaryc.add(Dense(units=10, activation=\"relu\", input_dim=8))\n",
        "binaryc.add(Dense(units=8, activation=\"relu\"))\n",
        "binaryc.add(Dense(units=1, activation=\"sigmoid\"))\n",
        "binaryc.compile(loss=\"binary_crossentropy\", optimizer=\"adam\", metrics=\"accuracy\")\n",
        "X = df.iloc[:, :-1]\n",
        "y = df.iloc[:, -1]"
      ]
    },
    {
      "cell_type": "code",
      "execution_count": null,
      "metadata": {
        "colab": {
          "base_uri": "https://localhost:8080/"
        },
        "id": "EiudhsTqK-OD",
        "outputId": "deea9ca9-47b0-454f-9c76-4f9cdf1d37e9"
      },
      "outputs": [],
      "source": [
        "from sklearn.model_selection import train_test_split\n",
        "\n",
        "xtrain, xtest, ytrain, ytest = train_test_split(X, y, test_size=0.25, random_state=1)\n",
        "print(xtrain.shape)\n",
        "print(ytrain.shape)\n",
        "binaryc.fit(xtrain, ytrain, epochs=200, batch_size=20)\n",
        "predictions = binaryc.predict(xtest)\n",
        "print(predictions.shape)"
      ]
    },
    {
      "cell_type": "code",
      "execution_count": null,
      "metadata": {
        "colab": {
          "base_uri": "https://localhost:8080/"
        },
        "id": "G3O9gHeOLMFj",
        "outputId": "9fbda179-9723-412f-b35a-2bdfdafb2b49"
      },
      "outputs": [],
      "source": [
        "class_labels = []\n",
        "for i in predictions:\n",
        "    if i > 0.5:\n",
        "        class_labels.append(1)\n",
        "    else:\n",
        "        class_labels.append(0)\n",
        "class_labels\n",
        "from sklearn.metrics import accuracy_score\n",
        "\n",
        "print(\"Accuracy Score\", accuracy_score(ytest, class_labels))"
      ]
    }
  ],
  "metadata": {
    "colab": {
      "provenance": []
    },
    "kernelspec": {
      "display_name": "Python 3",
      "name": "python3"
    },
    "language_info": {
      "codemirror_mode": {
        "name": "ipython",
        "version": 3
      },
      "file_extension": ".py",
      "mimetype": "text/x-python",
      "name": "python",
      "nbconvert_exporter": "python",
      "pygments_lexer": "ipython3",
      "version": "3.11.7"
    }
  },
  "nbformat": 4,
  "nbformat_minor": 0
}
