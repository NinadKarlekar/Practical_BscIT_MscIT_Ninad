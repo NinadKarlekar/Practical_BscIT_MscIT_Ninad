{
  "nbformat": 4,
  "nbformat_minor": 0,
  "metadata": {
    "colab": {
      "provenance": []
    },
    "kernelspec": {
      "name": "python3",
      "display_name": "Python 3"
    },
    "language_info": {
      "name": "python"
    }
  },
  "cells": [
    {
      "cell_type": "markdown",
      "source": [
        "# 9. Implement Naive Bayes classifier"
      ],
      "metadata": {
        "id": "vpHu77qiwbKv"
      }
    },
    {
      "cell_type": "code",
      "execution_count": 3,
      "metadata": {
        "colab": {
          "base_uri": "https://localhost:8080/"
        },
        "id": "9Lv_cLmXvoqx",
        "outputId": "7e9c9b63-7c5a-4bf0-c3bc-cbea15cc2cbd"
      },
      "outputs": [
        {
          "output_type": "stream",
          "name": "stderr",
          "text": [
            "[nltk_data] Downloading package stopwords to /root/nltk_data...\n",
            "[nltk_data]   Unzipping corpora/stopwords.zip.\n"
          ]
        },
        {
          "output_type": "execute_result",
          "data": {
            "text/plain": [
              "True"
            ]
          },
          "metadata": {},
          "execution_count": 3
        }
      ],
      "source": [
        "# pip install pandas\n",
        "# pip install sklearn\n",
        "import pandas as pd\n",
        "import numpy as np\n",
        "import re\n",
        "import nltk\n",
        "from nltk.corpus import stopwords\n",
        "from nltk.stem.porter import PorterStemmer\n",
        "from sklearn.feature_extraction.text import CountVectorizer\n",
        "from sklearn.model_selection import train_test_split\n",
        "from sklearn.naive_bayes import MultinomialNB\n",
        "from sklearn.metrics import classification_report, confusion_matrix, accuracy_score\n",
        "\n",
        "# Download NLTK stopwords\n",
        "nltk.download('stopwords')"
      ]
    },
    {
      "cell_type": "code",
      "source": [
        "# Read the SMS data\n",
        "sms_data = pd.read_csv(\"/content/spam.csv\", encoding='latin-1')\n",
        "\n",
        "# Initialize the Porter Stemmer\n",
        "stemming = PorterStemmer()\n",
        "corpus = []\n",
        "\n",
        "# Create the corpus with stemmed words\n",
        "for i in range(len(sms_data)):\n",
        "    s1 = re.sub('[^a-zA-Z]', ' ', sms_data['v2'][i])\n",
        "    s1 = s1.lower()\n",
        "    s1 = s1.split()\n",
        "    s1 = [stemming.stem(word) for word in s1 if word not in set(stopwords.words('english'))]\n",
        "    s1 = ' '.join(s1)\n",
        "    corpus.append(s1)\n",
        "\n",
        "# Convert the corpus into a matrix of token counts\n",
        "countvectorizer = CountVectorizer()\n",
        "x = countvectorizer.fit_transform(corpus).toarray()\n",
        "print(x)\n",
        "\n"
      ],
      "metadata": {
        "colab": {
          "base_uri": "https://localhost:8080/"
        },
        "id": "CGu5rM4fvx-h",
        "outputId": "d999b919-a4f2-42f3-f39e-26b3a7008ea8"
      },
      "execution_count": 4,
      "outputs": [
        {
          "output_type": "stream",
          "name": "stdout",
          "text": [
            "[[0 0 0 ... 0 0 0]\n",
            " [0 0 0 ... 0 0 0]\n",
            " [0 0 0 ... 0 0 0]\n",
            " ...\n",
            " [0 0 0 ... 0 0 0]\n",
            " [0 0 0 ... 0 0 0]\n",
            " [0 0 0 ... 0 0 0]]\n"
          ]
        }
      ]
    },
    {
      "cell_type": "code",
      "source": [
        "# Extract the target variable\n",
        "y = sms_data['v1'].values\n",
        "print(y)"
      ],
      "metadata": {
        "colab": {
          "base_uri": "https://localhost:8080/"
        },
        "id": "xwdPTmMtv3qv",
        "outputId": "205ebd7d-44f5-4b32-c30a-7c37eb402a67"
      },
      "execution_count": 5,
      "outputs": [
        {
          "output_type": "stream",
          "name": "stdout",
          "text": [
            "['ham' 'ham' 'spam' ... 'ham' 'ham' 'ham']\n"
          ]
        }
      ]
    },
    {
      "cell_type": "code",
      "source": [
        "# Split the data into training and testing sets\n",
        "x_train, x_test, y_train, y_test = train_test_split(x, y, test_size=0.3, stratify=y, random_state=2)\n",
        "\n",
        "# Initialize the Multinomial Naïve Bayes model\n",
        "multinomialnb = MultinomialNB()\n",
        "multinomialnb.fit(x_train, y_train)\n",
        "\n",
        "# Predicting on test data\n",
        "y_pred = multinomialnb.predict(x_test)\n",
        "print(y_pred)"
      ],
      "metadata": {
        "colab": {
          "base_uri": "https://localhost:8080/"
        },
        "id": "RbIo6NWdv0cP",
        "outputId": "47fde98a-439f-40fa-e7d0-e47d02e48c50"
      },
      "execution_count": 6,
      "outputs": [
        {
          "output_type": "stream",
          "name": "stdout",
          "text": [
            "['ham' 'ham' 'ham' ... 'ham' 'ham' 'ham']\n"
          ]
        }
      ]
    },
    {
      "cell_type": "code",
      "source": [
        "# Results of our models\n",
        "print(classification_report(y_test, y_pred))\n",
        "print(\"accuracy_score: \", accuracy_score(y_test, y_pred))\n"
      ],
      "metadata": {
        "colab": {
          "base_uri": "https://localhost:8080/"
        },
        "id": "5560MfQOvy6B",
        "outputId": "e474a5f3-0430-482d-9d19-7896ce3bd555"
      },
      "execution_count": 7,
      "outputs": [
        {
          "output_type": "stream",
          "name": "stdout",
          "text": [
            "              precision    recall  f1-score   support\n",
            "\n",
            "         ham       0.99      0.98      0.99      1448\n",
            "        spam       0.89      0.92      0.91       224\n",
            "\n",
            "    accuracy                           0.97      1672\n",
            "   macro avg       0.94      0.95      0.95      1672\n",
            "weighted avg       0.98      0.97      0.98      1672\n",
            "\n",
            "accuracy_score:  0.9748803827751196\n"
          ]
        }
      ]
    }
  ]
}