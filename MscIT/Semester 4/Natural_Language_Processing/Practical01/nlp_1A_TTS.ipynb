{
  "nbformat": 4,
  "nbformat_minor": 0,
  "metadata": {
    "colab": {
      "provenance": []
    },
    "kernelspec": {
      "name": "python3",
      "display_name": "Python 3"
    },
    "language_info": {
      "name": "python"
    }
  },
  "cells": [
    {
      "cell_type": "code",
      "execution_count": null,
      "metadata": {
        "colab": {
          "base_uri": "https://localhost:8080/"
        },
        "id": "5nnt__-6_0xG",
        "outputId": "d65487ff-8d72-47b5-88af-74cc5914e405"
      },
      "outputs": [
        {
          "output_type": "stream",
          "name": "stdout",
          "text": [
            "Requirement already satisfied: gtts in /usr/local/lib/python3.10/dist-packages (2.5.1)\n",
            "Requirement already satisfied: requests<3,>=2.27 in /usr/local/lib/python3.10/dist-packages (from gtts) (2.31.0)\n",
            "Requirement already satisfied: click<8.2,>=7.1 in /usr/local/lib/python3.10/dist-packages (from gtts) (8.1.7)\n",
            "Requirement already satisfied: charset-normalizer<4,>=2 in /usr/local/lib/python3.10/dist-packages (from requests<3,>=2.27->gtts) (3.3.2)\n",
            "Requirement already satisfied: idna<4,>=2.5 in /usr/local/lib/python3.10/dist-packages (from requests<3,>=2.27->gtts) (3.6)\n",
            "Requirement already satisfied: urllib3<3,>=1.21.1 in /usr/local/lib/python3.10/dist-packages (from requests<3,>=2.27->gtts) (2.0.7)\n",
            "Requirement already satisfied: certifi>=2017.4.17 in /usr/local/lib/python3.10/dist-packages (from requests<3,>=2.27->gtts) (2024.2.2)\n"
          ]
        }
      ],
      "source": [
        "# Import the required module for text to speech conversion\n",
        "\n",
        "!pip install gtts\n",
        "from gtts import gTTS\n",
        "\n",
        "# This module is imported so that we can play the converted audio\n",
        "import os\n",
        "\n",
        "# The text that you want to convert to audio\n",
        "mytext = \"Hello Everyone!My name is Ninad\"\n",
        "\n",
        "# Language in which you want to convert\n",
        "language = \"en\"\n",
        "\n",
        "# Passing the text and language to the engine, here we have marked slow=False. Which tells the module that the converted audio should have a high speed\n",
        "myobj = gTTS(text=mytext, lang=language, slow=False)\n",
        "\n",
        "# Saving the converted audio in a mp3 file named welcome\n",
        "myobj.save(\"welcomeNK.mp3\")\n",
        "\n",
        "# Playing the converted file\n",
        "#os.system(\"mpg321 welcomeNK.mp3\")\n"
      ]
    }
  ]
}