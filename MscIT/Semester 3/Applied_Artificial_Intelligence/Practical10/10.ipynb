{
 "cells": [
  {
   "cell_type": "markdown",
   "metadata": {},
   "source": [
    "## AAI:- a)\tAIM: Design an Artificial Intelligence application to implement intelligent agents."
   ]
  },
  {
   "cell_type": "code",
   "execution_count": 6,
   "metadata": {},
   "outputs": [],
   "source": [
    "class ClothesAgent:\n",
    "    def __init__(self):\n",
    "        self.weather = None\n",
    "\n",
    "    def get_weather(self):\n",
    "        # Simulating weather conditions (you can modify this as needed)\n",
    "        self.weather = input(\"Enter the weather (sunny, rainy, windy, snowy): \").lower()\n",
    "\n",
    "    def suggest_clothes(self):\n",
    "        if self.weather == \"sunny\":\n",
    "            print(\n",
    "                \"It's sunny outside. You should wear light clothes, sunglasses, and sunscreen.\"\n",
    "            )\n",
    "        elif self.weather == \"rainy\":\n",
    "            print(\n",
    "                \"It's rainy outside. Don't forget an umbrella, raincoat, and waterproof shoes.\"\n",
    "            )\n",
    "        elif self.weather == \"windy\":\n",
    "            print(\"It's windy outside. Wear layers and a jacket to stay warm.\")\n",
    "        elif self.weather == \"snowy\":\n",
    "            print(\n",
    "                \"It's snowy outside. Dress warmly with a heavy coat, gloves, and boots.\"\n",
    "            )\n",
    "        else:\n",
    "            print(\n",
    "                \"Sorry, I don't understand the weather condition. Please enter sunny, rainy, windy, or snowy.\"\n",
    "            )\n"
   ]
  },
  {
   "cell_type": "code",
   "execution_count": 7,
   "metadata": {},
   "outputs": [
    {
     "name": "stdout",
     "output_type": "stream",
     "text": [
      "It's sunny outside. You should wear light clothes, sunglasses, and sunscreen.\n"
     ]
    }
   ],
   "source": [
    "def main():\n",
    "    agent = ClothesAgent()\n",
    "    agent.get_weather()\n",
    "    agent.suggest_clothes()\n",
    "\n",
    "\n",
    "if __name__ == \"__main__\":\n",
    "    main()"
   ]
  }
 ],
 "metadata": {
  "kernelspec": {
   "display_name": "Python 3",
   "language": "python",
   "name": "python3"
  },
  "language_info": {
   "codemirror_mode": {
    "name": "ipython",
    "version": 3
   },
   "file_extension": ".py",
   "mimetype": "text/x-python",
   "name": "python",
   "nbconvert_exporter": "python",
   "pygments_lexer": "ipython3",
   "version": "3.9.0"
  }
 },
 "nbformat": 4,
 "nbformat_minor": 2
}
