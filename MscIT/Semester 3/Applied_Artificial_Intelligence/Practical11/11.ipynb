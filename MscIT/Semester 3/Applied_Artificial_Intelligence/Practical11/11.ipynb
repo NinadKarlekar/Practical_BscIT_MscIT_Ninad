{
 "cells": [
  {
   "cell_type": "code",
   "execution_count": 4,
   "metadata": {},
   "outputs": [
    {
     "name": "stdout",
     "output_type": "stream",
     "text": [
      "['Hello, NLP world!', '!', 'In this example, we are going to do the basics of Text processing which will be used later.']\n"
     ]
    }
   ],
   "source": [
    "def sentenceSegment(text):\n",
    "    sentences = []\n",
    "    start = 0\n",
    "\n",
    "    for i in range(len(text)):\n",
    "        if text[i] == \".\" or text[i] == \"!\" or text[i] == \"?\":\n",
    "            sentences.append(text[start : i + 1].strip())\n",
    "            start = i + 1\n",
    "\n",
    "    return sentences\n",
    "\n",
    "\n",
    "text = \"Hello, NLP world!! In this example, we are going to do the basics of Text processing which will be used later.\"\n",
    "\n",
    "print(sentenceSegment(text))"
   ]
  },
  {
   "cell_type": "code",
   "execution_count": 5,
   "metadata": {},
   "outputs": [],
   "source": [
    "#%pip install nltk"
   ]
  },
  {
   "cell_type": "code",
   "execution_count": 6,
   "metadata": {},
   "outputs": [
    {
     "name": "stderr",
     "output_type": "stream",
     "text": [
      "[nltk_data] Downloading package punkt to\n",
      "[nltk_data]     C:\\Users\\User\\AppData\\Roaming\\nltk_data...\n",
      "[nltk_data]   Unzipping tokenizers\\punkt.zip.\n"
     ]
    },
    {
     "name": "stdout",
     "output_type": "stream",
     "text": [
      "['Hello, NLP world!!', 'In this example, we are going to do the basics of Text processing which will be used later.']\n"
     ]
    }
   ],
   "source": [
    "import nltk\n",
    "\n",
    "nltk.download(\"punkt\")\n",
    "\n",
    "text = \"Hello, NLP world!! In this example, we are going to do the basics of Text processing which will be used later.\"\n",
    "\n",
    "sentences = nltk.sent_tokenize(text)\n",
    "\n",
    "print(sentences)"
   ]
  },
  {
   "cell_type": "code",
   "execution_count": 7,
   "metadata": {},
   "outputs": [
    {
     "name": "stdout",
     "output_type": "stream",
     "text": [
      "Hello NLP world In this example we are going to do the basics of Text processing which will be used later\n"
     ]
    }
   ],
   "source": [
    "import string\n",
    "\n",
    "\n",
    "def remove_punctuation(input_string):\n",
    "    # Define a string of punctuation marks and symbols\n",
    "    punctuations = string.punctuation\n",
    "\n",
    "    # Remove the punctuation marks and symbols from the input string\n",
    "    output_string = \"\".join(char for char in input_string if char not in punctuations)\n",
    "\n",
    "    return output_string\n",
    "\n",
    "\n",
    "text = \"Hello, NLP world!! In this example, we are going to do the basics of Text processing which will be used later.\"\n",
    "sentences = sentenceSegment(text)\n",
    "puncRemovedText = remove_punctuation(text)\n",
    "print(puncRemovedText)"
   ]
  },
  {
   "cell_type": "code",
   "execution_count": 8,
   "metadata": {},
   "outputs": [
    {
     "name": "stdout",
     "output_type": "stream",
     "text": [
      "hello nlp world in this example we are going to do the basics of text processing which will be used later\n"
     ]
    }
   ],
   "source": [
    "def convertToLower(s):\n",
    "    return s.lower()\n",
    "\n",
    "\n",
    "text = \"Hello, NLP world!! In this example, we are going to do the basics of Text processing which will be used later.\"\n",
    "puncRemovedText = remove_punctuation(text)\n",
    "\n",
    "lowerText = convertToLower(puncRemovedText)\n",
    "print(lowerText)"
   ]
  },
  {
   "cell_type": "code",
   "execution_count": 9,
   "metadata": {},
   "outputs": [
    {
     "name": "stdout",
     "output_type": "stream",
     "text": [
      "['hello', 'nlp', 'world', 'in', 'this', 'example', 'we', 'are', 'going', 'to', 'do', 'the', 'basics', 'of', 'text', 'processing', 'which', 'will', 'be', 'used', 'later']\n"
     ]
    }
   ],
   "source": [
    "# in this code, we are not using any libraries\n",
    "# tokenize without using any function from string or any other function.\n",
    "# only using loops and if/else\n",
    "\n",
    "\n",
    "def tokenize(s):\n",
    "    words = []  # token words should be stored here\n",
    "    i = 0\n",
    "    word = \"\"\n",
    "    while i < len(s):\n",
    "        if s[i] != \" \":\n",
    "            word = word + s[i]\n",
    "        else:\n",
    "            words.append(word)\n",
    "            word = \"\"\n",
    "\n",
    "        i = i + 1\n",
    "    words.append(word)\n",
    "    return words\n",
    "\n",
    "\n",
    "text = \"Hello, NLP world!! In this example, we are going to do the basics of Text processing which will be used later.\"\n",
    "puncRemovedText = remove_punctuation(text)\n",
    "lowerText = convertToLower(puncRemovedText)\n",
    "\n",
    "tokenizedText = tokenize(lowerText)\n",
    "print(tokenizedText)"
   ]
  },
  {
   "cell_type": "code",
   "execution_count": 10,
   "metadata": {},
   "outputs": [
    {
     "name": "stdout",
     "output_type": "stream",
     "text": [
      "['hello', 'nlp', 'world', 'in', 'this', 'example', 'we', 'are', 'going', 'to', 'do', 'the', 'basics', 'of', 'text', 'processing', 'which', 'will', 'be', 'used', 'later']\n"
     ]
    }
   ],
   "source": [
    "import nltk\n",
    "\n",
    "# Define input text\n",
    "text = \"Hello, NLP world!! In this example, we are going to do the basics of Text processing which will be used later.\"\n",
    "\n",
    "# sentence segmentation - removal of punctuations and converting to lowercase\n",
    "sentences = nltk.sent_tokenize(text)\n",
    "puncRemovedText = remove_punctuation(text)\n",
    "lowerText = convertToLower(puncRemovedText)\n",
    "\n",
    "# Tokenize the text\n",
    "tokens = nltk.word_tokenize(lowerText)\n",
    "\n",
    "# Print the tokens\n",
    "print(tokens)"
   ]
  },
  {
   "cell_type": "code",
   "execution_count": 11,
   "metadata": {},
   "outputs": [
    {
     "name": "stdout",
     "output_type": "stream",
     "text": [
      "['We', \"'re\", 'going', 'to', 'John', \"'s\", 'house', 'today', '.']\n"
     ]
    }
   ],
   "source": [
    "import nltk\n",
    "\n",
    "sentence = \"We're going to John's house today.\"\n",
    "tokens = nltk.word_tokenize(sentence)\n",
    "\n",
    "print(tokens)"
   ]
  }
 ],
 "metadata": {
  "kernelspec": {
   "display_name": "Python 3",
   "language": "python",
   "name": "python3"
  },
  "language_info": {
   "codemirror_mode": {
    "name": "ipython",
    "version": 3
   },
   "file_extension": ".py",
   "mimetype": "text/x-python",
   "name": "python",
   "nbconvert_exporter": "python",
   "pygments_lexer": "ipython3",
   "version": "3.9.0"
  }
 },
 "nbformat": 4,
 "nbformat_minor": 2
}
