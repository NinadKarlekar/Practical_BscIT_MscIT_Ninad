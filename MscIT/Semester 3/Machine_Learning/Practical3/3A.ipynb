{
 "cells": [
  {
   "cell_type": "code",
   "execution_count": 2,
   "metadata": {},
   "outputs": [],
   "source": [
    "import pandas as pd\n",
    "import numpy as np\n",
    "import seaborn as sns\n",
    "import matplotlib.pyplot as plt\n",
    "from sklearn import svm, datasets\n",
    "import sklearn.model_selection as model_selection\n",
    "from sklearn.metrics import accuracy_score\n",
    "from sklearn.metrics import f1_score\n",
    "from sklearn.svm import SVC\n",
    "from sklearn.metrics import confusion_matrix\n"
   ]
  },
  {
   "cell_type": "code",
   "execution_count": 3,
   "metadata": {},
   "outputs": [],
   "source": [
    "iris = datasets.load_iris()\n",
    "#print(iris.data)"
   ]
  },
  {
   "cell_type": "code",
   "execution_count": 6,
   "metadata": {},
   "outputs": [
    {
     "data": {
      "text/plain": [
       "((120, 2), (30, 2), (120,), (30,))"
      ]
     },
     "execution_count": 6,
     "metadata": {},
     "output_type": "execute_result"
    }
   ],
   "source": [
    "x = iris.data[:, :2]\n",
    "y = iris.target\n",
    "x_train, x_test, y_train, y_test = model_selection.train_test_split(x, y, train_size=0.80, test_size=0.20, random_state=101)\n",
    " \n",
    "x_train.shape, x_test.shape, y_train.shape, y_test.shape\n"
   ]
  },
  {
   "cell_type": "code",
   "execution_count": 7,
   "metadata": {},
   "outputs": [],
   "source": [
    "rbf = svm.SVC(kernel='rbf', gamma=0.5, C=0.1).fit(x_train, y_train)\n",
    "poly = svm.SVC(kernel='poly', degree=3, C=1).fit(x_train, y_train)"
   ]
  },
  {
   "cell_type": "code",
   "execution_count": 9,
   "metadata": {},
   "outputs": [],
   "source": [
    "poly_pred = poly.predict(x_test)\n",
    "rbf_pred = rbf.predict(x_test)"
   ]
  },
  {
   "cell_type": "code",
   "execution_count": 10,
   "metadata": {},
   "outputs": [
    {
     "name": "stdout",
     "output_type": "stream",
     "text": [
      "Accuracy (Polynomial Kernel):  70.00\n",
      "F1 (Polynomial Kernel):  69.67\n"
     ]
    }
   ],
   "source": [
    "poly_accuracy = accuracy_score(y_test, poly_pred)\n",
    "poly_f1 = f1_score(y_test, poly_pred, average='weighted')\n",
    "print('Accuracy (Polynomial Kernel): ', \"%.2f\" % (poly_accuracy*100))\n",
    "print('F1 (Polynomial Kernel): ', \"%.2f\" % (poly_f1*100))"
   ]
  },
  {
   "cell_type": "code",
   "execution_count": 11,
   "metadata": {},
   "outputs": [
    {
     "name": "stdout",
     "output_type": "stream",
     "text": [
      "Accuracy (RBF Kernel):  76.67\n",
      "F1 (RBF Kernel):  76.36\n"
     ]
    }
   ],
   "source": [
    "rbf_accuracy = accuracy_score(y_test, rbf_pred)\n",
    "rbf_f1 = f1_score(y_test, rbf_pred, average='weighted')\n",
    "print('Accuracy (RBF Kernel): ', \"%.2f\" % (rbf_accuracy*100))\n",
    "print('F1 (RBF Kernel): ', \"%.2f\" % (rbf_f1*100))"
   ]
  },
  {
   "cell_type": "code",
   "execution_count": 15,
   "metadata": {},
   "outputs": [
    {
     "data": {
      "image/png": "[encoded data removed]",
      "text/plain": [
       "<Figure size 500x400 with 2 Axes>"
      ]
     },
     "metadata": {},
     "output_type": "display_data"
    }
   ],
   "source": [
    "# Calculate the confusion matrix\n",
    "cm = confusion_matrix(y_test, poly_pred)\n",
    "\n",
    "# Display the confusion matrix\n",
    "cm_df = pd.DataFrame(\n",
    "    cm,\n",
    "    index=[\"SETOSA\", \"VERSICOLR\", \"VIRGINICA\"],\n",
    "    columns=[\"SETOSA\", \"VERSICOLR\", \"VIRGINICA\"],\n",
    ")\n",
    "\n",
    "plt.figure(figsize=(5, 4))\n",
    "sns.heatmap(cm_df, annot=True)\n",
    "plt.title(\"Confusion Matrix\")\n",
    "plt.ylabel(\"Actual Values\")\n",
    "plt.xlabel(\"Predicted Values\")\n",
    "plt.show()"
   ]
  },
  {
   "cell_type": "code",
   "execution_count": 16,
   "metadata": {},
   "outputs": [
    {
     "name": "stdout",
     "output_type": "stream",
     "text": [
      "True Positives (Setosa): 9\n",
      "True Negatives (Setosa): 20\n",
      "False Positives (Setosa): 0\n",
      "False Negatives (Setosa): 1\n"
     ]
    }
   ],
   "source": [
    "# Extract TP, TN, FP, FN values for the \"Setosa\" class (class 0)\n",
    "setosa_index = 0\n",
    "TP = cm[setosa_index, setosa_index]\n",
    "TN = np.sum(np.delete(np.delete(cm, setosa_index, axis=0), setosa_index, axis=1))\n",
    "FP = np.sum(cm[:, setosa_index]) - TP\n",
    "FN = np.sum(cm[setosa_index, :]) - TP\n",
    "\n",
    "print(\"True Positives (Setosa):\", TP)\n",
    "print(\"True Negatives (Setosa):\", TN)\n",
    "print(\"False Positives (Setosa):\", FP)\n",
    "print(\"False Negatives (Setosa):\", FN)"
   ]
  },
  {
   "cell_type": "code",
   "execution_count": null,
   "metadata": {},
   "outputs": [],
   "source": [
    "# Define the index for the \"Setosa\" class in the confusion matrix (class 0)\n",
    "setosa_index = 0\n",
    "\n",
    "# Calculate True Positives (TP): The count of correct predictions for the \"Setosa\" class.\n",
    "TP = cm[setosa_index, setosa_index]\n",
    "\n",
    "# Calculate True Negatives (TN):\n",
    "#   1. Remove the row and column corresponding to the \"Setosa\" class from the confusion matrix.\n",
    "#   2. Sum all remaining values in the modified confusion matrix to get TN.\n",
    "TN = np.sum(np.delete(np.delete(cm, setosa_index, axis=0), setosa_index, axis=1))\n",
    "\n",
    "# Calculate False Positives (FP):\n",
    "#   1. Sum all values in the column corresponding to the \"Setosa\" class in the original confusion matrix.\n",
    "#   2. Subtract TP (True Positives) from the sum to get FP.\n",
    "FP = np.sum(cm[:, setosa_index]) - TP\n",
    "\n",
    "# Calculate False Negatives (FN):\n",
    "#   1. Sum all values in the row corresponding to the \"Setosa\" class in the original confusion matrix.\n",
    "#   2. Subtract TP (True Positives) from the sum to get FN.\n",
    "FN = np.sum(cm[setosa_index, :]) - TP\n"
   ]
  }
 ],
 "metadata": {
  "kernelspec": {
   "display_name": "Python 3",
   "language": "python",
   "name": "python3"
  },
  "language_info": {
   "codemirror_mode": {
    "name": "ipython",
    "version": 3
   },
   "file_extension": ".py",
   "mimetype": "text/x-python",
   "name": "python",
   "nbconvert_exporter": "python",
   "pygments_lexer": "ipython3",
   "version": "3.9.0"
  },
  "orig_nbformat": 4
 },
 "nbformat": 4,
 "nbformat_minor": 2
}
