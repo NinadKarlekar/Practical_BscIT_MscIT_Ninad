{
 "cells": [
  {
   "cell_type": "markdown",
   "metadata": {},
   "source": [
    "## 10 A) Aim:  Implement the different Distance methods (Euclidean) with Prediction, Test Score and Confusion Matrix. "
   ]
  },
  {
   "cell_type": "code",
   "execution_count": 12,
   "metadata": {},
   "outputs": [],
   "source": [
    "import numpy as np\n",
    "import pandas as pd\n",
    "from sklearn.model_selection import train_test_split\n",
    "from sklearn.neighbors import KNeighborsClassifier\n",
    "from sklearn.metrics import accuracy_score"
   ]
  },
  {
   "cell_type": "code",
   "execution_count": 13,
   "metadata": {},
   "outputs": [
    {
     "name": "stdout",
     "output_type": "stream",
     "text": [
      "   SepalLengthCm  SepalWidthCm  PetalLengthCm  PetalWidthCm      Species\n",
      "0            5.1           3.5            1.4           0.2  Iris-setosa\n",
      "1            4.9           3.0            1.4           0.2  Iris-setosa\n",
      "2            4.7           3.2            1.3           0.2  Iris-setosa\n",
      "3            4.6           3.1            1.5           0.2  Iris-setosa\n",
      "4            5.0           3.6            1.4           0.2  Iris-setosa\n",
      "\n",
      "\n"
     ]
    }
   ],
   "source": [
    "#Load the dataset\n",
    "df = pd.read_csv(\"../dataset/Iris.csv\")\n",
    "\n",
    "#quick look into the data\n",
    "print(df.head(5))\n",
    "print(\"\\n\")"
   ]
  },
  {
   "cell_type": "code",
   "execution_count": 14,
   "metadata": {},
   "outputs": [],
   "source": [
    "#Separate data and label\n",
    "x = df.drop(['Species'], axis=1)\n",
    "y = df['Species']\n",
    "\n",
    "#Prepare data for classification process\n",
    "x_train, x_test, y_train, y_test = train_test_split(x, y, test_size=0.3, random_state=0)"
   ]
  },
  {
   "cell_type": "code",
   "execution_count": 15,
   "metadata": {},
   "outputs": [
    {
     "name": "stdout",
     "output_type": "stream",
     "text": [
      "Accuracy of Euclidean Distance model:-\n",
      "0.9777777777777777\n",
      "--------------------------------------------------\n",
      "Confusion matrix:-\n",
      "[[16  0  0]\n",
      " [ 0 17  1]\n",
      " [ 0  0 11]]\n",
      "\n",
      "\n"
     ]
    }
   ],
   "source": [
    "#Create a model , p = 2 => Euclidean Distance:\n",
    "knn = KNeighborsClassifier(n_neighbors = 6, p = 2, metric='minkowski')\n",
    "\n",
    "#Train the model\n",
    "knn.fit(x_train, y_train)\n",
    "\n",
    "# Calculate the accuracy of the model\n",
    "print(\"Accuracy of Euclidean Distance model:-\")\n",
    "print(knn.score(x_test, y_test))\n",
    "y_pred = knn.predict(x_test)\n",
    "\n",
    "#confusion matrix \n",
    "from sklearn.metrics import  confusion_matrix\n",
    "cm=np.array(confusion_matrix(y_test,y_pred))\n",
    "print(\"-\"*50)\n",
    "print(\"Confusion matrix:-\")\n",
    "print(cm)\n",
    "print(\"\\n\")"
   ]
  },
  {
   "cell_type": "code",
   "execution_count": 16,
   "metadata": {},
   "outputs": [
    {
     "name": "stdout",
     "output_type": "stream",
     "text": [
      "--------------------------------------------------\n",
      "Accuracy of Manhattan Distance model:-\n",
      "0.9555555555555556\n",
      "--------------------------------------------------\n",
      "Confusion matrix:-\n",
      "[[16  0  0]\n",
      " [ 0 17  1]\n",
      " [ 0  1 10]]\n",
      "\n",
      "\n"
     ]
    }
   ],
   "source": [
    "#Create a model , p = 1 => Manhattan Distance\n",
    "knn = KNeighborsClassifier(n_neighbors = 6, p = 1, metric='minkowski')\n",
    "\n",
    "#Train the model\n",
    "knn.fit(x_train, y_train)\n",
    "\n",
    "# Calculate the accuracy of the model\n",
    "print(\"-\"*50)\n",
    "print(\"Accuracy of Manhattan Distance model:-\")\n",
    "print(knn.score(x_test, y_test))\n",
    "y_pred = knn.predict(x_test)\n",
    "\n",
    "#confusion matrix \n",
    "from sklearn.metrics import  confusion_matrix\n",
    "cm=np.array(confusion_matrix(y_test,y_pred))\n",
    "print(\"-\"*50)\n",
    "print(\"Confusion matrix:-\")\n",
    "print(cm)\n",
    "print(\"\\n\")"
   ]
  },
  {
   "cell_type": "code",
   "execution_count": 18,
   "metadata": {},
   "outputs": [
    {
     "name": "stdout",
     "output_type": "stream",
     "text": [
      "--------------------------------------------------\n",
      "Accuracy of Chebychev Distance model:-\n",
      "0.8\n",
      "--------------------------------------------------\n",
      "Confusion matrix:-\n",
      "[[16  0  0]\n",
      " [ 0 18  0]\n",
      " [ 0  9  2]]\n",
      "\n",
      "\n"
     ]
    }
   ],
   "source": [
    "#Create a model ,p = ∞, Chebychev Distance\n",
    "#let ∞ = 10000\n",
    "knn = KNeighborsClassifier(n_neighbors = 6, p = 10000, metric='minkowski')\n",
    "\n",
    "#Train the model\n",
    "knn.fit(x_train, y_train)\n",
    "\n",
    "# Calculate the accuracy of the model\n",
    "print(\"-\"*50)\n",
    "print(\"Accuracy of Chebychev Distance model:-\")\n",
    "print(knn.score(x_test, y_test))\n",
    "y_pred = knn.predict(x_test)\n",
    "\n",
    "#confusion matrix \n",
    "from sklearn.metrics import  confusion_matrix\n",
    "cm=np.array(confusion_matrix(y_test,y_pred))\n",
    "print(\"-\"*50)\n",
    "print(\"Confusion matrix:-\")\n",
    "print(cm)\n",
    "print(\"\\n\") \n"
   ]
  }
 ],
 "metadata": {
  "kernelspec": {
   "display_name": "Python 3",
   "language": "python",
   "name": "python3"
  },
  "language_info": {
   "codemirror_mode": {
    "name": "ipython",
    "version": 3
   },
   "file_extension": ".py",
   "mimetype": "text/x-python",
   "name": "python",
   "nbconvert_exporter": "python",
   "pygments_lexer": "ipython3",
   "version": "3.9.0"
  }
 },
 "nbformat": 4,
 "nbformat_minor": 2
}
