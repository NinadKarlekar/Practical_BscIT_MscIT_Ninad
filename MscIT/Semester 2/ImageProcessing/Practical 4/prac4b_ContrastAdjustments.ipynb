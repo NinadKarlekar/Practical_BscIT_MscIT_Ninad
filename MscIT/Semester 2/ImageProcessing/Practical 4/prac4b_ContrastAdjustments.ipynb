{
 "cells": [
  {
   "cell_type": "code",
   "execution_count": null,
   "metadata": {},
   "outputs": [],
   "source": [
    "import numpy as np\n",
    "from skimage.io import imread\n",
    "from skimage.color import rgb2gray\n",
    "from skimage import data, img_as_float, img_as_ubyte, exposure, io, color\n",
    "from PIL import Image, ImageEnhance, ImageFilter\n",
    "from scipy import ndimage, misc \n",
    "import matplotlib.pyplot as pylab \n",
    "import cv2"
   ]
  },
  {
   "cell_type": "code",
   "execution_count": null,
   "metadata": {},
   "outputs": [],
   "source": [
    "\n",
    "def plot_image(image, title=\"\"):\n",
    "  pylab.title(title, size=10) \n",
    "  pylab.imshow(image) \n",
    "  pylab.axis('off')\n",
    "\n",
    "def plot_hist(r,g,b,title=\"\"):\n",
    "   r,g,b=img_as_ubyte(r),img_as_ubyte(g),img_as_ubyte(b) \n",
    "   pylab.hist(np.array(r).ravel(),bins=256, range=(0,256),color='r',alpha=0.3) \n",
    "   pylab.hist(np.array(g).ravel(),bins=256, range=(0,256),color='g',alpha=0.3)\n",
    "   pylab.hist(np.array(b).ravel(),bins=256, range=(0,256),color='b',alpha=0.3)\n",
    "   pylab.xlabel('Pixel Values', size=20) \n",
    "   pylab.ylabel('Frequency',size=20)\n",
    "   pylab.title(title,size=10)"
   ]
  },
  {
   "cell_type": "code",
   "execution_count": null,
   "metadata": {},
   "outputs": [],
   "source": [
    "\n",
    "im=Image.open('/content/drive/MyDrive/flowercolour.jpg') \n",
    "im_r,im_g,im_b=im.split() \n",
    "pylab.style.use('ggplot')\n",
    "pylab.figure(figsize=(15,5))\n",
    "pylab.subplot(121) \n",
    "plot_image(im)\n",
    "pylab.subplot(122)\n",
    "plot_hist(im_r,im_g,im_b)\n",
    "pylab.show()\n",
    "def contrast(c):\n",
    "  return 0 if c<50 else (255 if c>150 else int((255*c-22950)/48))"
   ]
  },
  {
   "cell_type": "code",
   "execution_count": null,
   "metadata": {},
   "outputs": [],
   "source": [
    "\n",
    "imc=im.point(contrast) \n",
    "im_rc,im_gc,im_bc=imc.split() \n",
    "pylab.style.use('ggplot')\n",
    "pylab.figure(figsize=(15,5))\n",
    "pylab.subplot(121)\n",
    "plot_image(imc) \n",
    "pylab.subplot(122) \n",
    "plot_hist(im_rc,im_gc,im_bc)\n",
    "pylab.yscale('log')\n",
    "pylab.show()"
   ]
  }
 ],
 "metadata": {
  "language_info": {
   "name": "python"
  },
  "orig_nbformat": 4
 },
 "nbformat": 4,
 "nbformat_minor": 2
}
